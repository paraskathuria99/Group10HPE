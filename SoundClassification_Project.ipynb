{
  "nbformat": 4,
  "nbformat_minor": 0,
  "metadata": {
    "colab": {
      "name": "SoundClassification_Project.ipynb",
      "provenance": []
    },
    "kernelspec": {
      "name": "python3",
      "display_name": "Python 3"
    }
  },
  "cells": [
    {
      "cell_type": "code",
      "metadata": {
        "id": "tWwoifCXLj9o"
      },
      "source": [
        "\r\n",
        "import keras\r\n",
        "from keras.layers import Activation, Dense, Dropout, Conv2D, \\\r\n",
        "                         Flatten, MaxPooling2D\r\n",
        "from keras.models import Sequential\r\n",
        "import librosa\r\n",
        "import pandas as pd\r\n",
        "import numpy as np\r\n",
        "import librosa.display\r\n",
        "import random\r\n",
        "\r\n",
        "import warnings\r\n",
        "warnings.filterwarnings('ignore')"
      ],
      "execution_count": 1,
      "outputs": []
    },
    {
      "cell_type": "code",
      "metadata": {
        "id": "SStf1Jlfeu-_"
      },
      "source": [
        "from google.colab import drive\n",
        "drive.mount('/content/drive')"
      ],
      "execution_count": null,
      "outputs": []
    },
    {
      "cell_type": "code",
      "metadata": {
        "id": "idNHFdgvN06p"
      },
      "source": [
        "data = pd.read_csv('/content/drive/MyDrive/Colab Notebooks/UrbanSound8K/metadata/UrbanSound8K.csv')\r\n",
        "data.head(5)\r\n"
      ],
      "execution_count": null,
      "outputs": []
    },
    {
      "cell_type": "code",
      "metadata": {
        "id": "Jcy2NCmaOSFF"
      },
      "source": [
        "data.shape"
      ],
      "execution_count": null,
      "outputs": []
    },
    {
      "cell_type": "code",
      "metadata": {
        "id": "veZQzUn-OWBj"
      },
      "source": [
        "# Filter the data files only greater than 3 seconds long\r\n",
        "valid_data = data[['slice_file_name', 'fold' ,'classID', 'class']][ data['end']-data['start'] >= 2.99 ]\r\n",
        "valid_data.shape"
      ],
      "execution_count": null,
      "outputs": []
    },
    {
      "cell_type": "code",
      "metadata": {
        "id": "57kxxLa7OoBj"
      },
      "source": [
        "# Sample spectrogram\r\n",
        "y, sr = librosa.load('/content/drive/MyDrive/Colab Notebooks/UrbanSound8K/audio/fold6/101281-3-0-5.wav', duration=2.95)\r\n",
        "ps = librosa.feature.melspectrogram(y=y, sr=sr)\r\n",
        "ps.shape"
      ],
      "execution_count": null,
      "outputs": []
    },
    {
      "cell_type": "code",
      "metadata": {
        "id": "TmFTq8h2PD7X"
      },
      "source": [
        "librosa.display.specshow(ps, y_axis='mel', x_axis='time')"
      ],
      "execution_count": null,
      "outputs": []
    },
    {
      "cell_type": "code",
      "metadata": {
        "id": "Kfk9LrbbPjYo"
      },
      "source": [
        "# Another sample spectrogram\r\n",
        "y, sr = librosa.load('/content/drive/MyDrive/Colab Notebooks/UrbanSound8K/audio/fold5/100263-2-0-143.wav', duration=2.95)\r\n",
        "ps = librosa.feature.melspectrogram(y=y, sr=sr)\r\n",
        "ps.shape"
      ],
      "execution_count": null,
      "outputs": []
    },
    {
      "cell_type": "code",
      "metadata": {
        "id": "s7nlPc_wP0N9"
      },
      "source": [
        "librosa.display.specshow(ps, y_axis='mel', x_axis='time')"
      ],
      "execution_count": null,
      "outputs": []
    },
    {
      "cell_type": "code",
      "metadata": {
        "id": "AQtiRdp7P3Bf"
      },
      "source": [
        "# Sample spectrogram\r\n",
        "y, sr = librosa.load('/content/drive/MyDrive/Colab Notebooks/UrbanSound8K/audio/fold5/104421-2-0-1.wav', duration=2.95)\r\n",
        "ps = librosa.feature.melspectrogram(y=y, sr=sr)\r\n",
        "ps.shape"
      ],
      "execution_count": null,
      "outputs": []
    },
    {
      "cell_type": "code",
      "metadata": {
        "id": "c0-JX3jCQJkx"
      },
      "source": [
        "librosa.display.specshow(ps, y_axis='mel', x_axis='time')"
      ],
      "execution_count": null,
      "outputs": []
    },
    {
      "cell_type": "code",
      "metadata": {
        "id": "J9vwhLliQLwl"
      },
      "source": [
        "# spectrogram\r\n",
        "y, sr = librosa.load('/content/drive/MyDrive/Colab Notebooks/UrbanSound8K/audio/fold10/100795-3-1-0.wav', duration=2.95)\r\n",
        "ps = librosa.feature.melspectrogram(y=y, sr=sr)\r\n",
        "ps.shape"
      ],
      "execution_count": null,
      "outputs": []
    },
    {
      "cell_type": "code",
      "metadata": {
        "id": "Vw0P2MA9Qxgn"
      },
      "source": [
        "librosa.display.specshow(ps, y_axis='mel', x_axis='time')"
      ],
      "execution_count": null,
      "outputs": []
    },
    {
      "cell_type": "code",
      "metadata": {
        "id": "n3y-Zuc7Uao0"
      },
      "source": [
        "# spectrogram\r\n",
        "y, sr = librosa.load('/content/drive/MyDrive/Colab Notebooks/UrbanSound8K/audio/fold5/100263-2-0-117.wav', duration=2.95)\r\n",
        "ps = librosa.feature.melspectrogram(y=y, sr=sr)\r\n",
        "ps.shape"
      ],
      "execution_count": null,
      "outputs": []
    },
    {
      "cell_type": "code",
      "metadata": {
        "id": "L6eDNe28UjrT"
      },
      "source": [
        "librosa.display.specshow(ps, y_axis='mel', x_axis='time')"
      ],
      "execution_count": null,
      "outputs": []
    },
    {
      "cell_type": "code",
      "metadata": {
        "id": "bIVhqSanQ08v"
      },
      "source": [
        "#Iterate over  all samples and construct a 128x128 spectrogram for each\r\n",
        "valid_data['path'] = 'fold' + valid_data['fold'].astype('str') + '/' + valid_data['slice_file_name'].astype('str')\r\n",
        "valid_data.head(5)"
      ],
      "execution_count": null,
      "outputs": []
    },
    {
      "cell_type": "code",
      "metadata": {
        "id": "8RNnczq7RSrh"
      },
      "source": [
        "# continued\r\n",
        "\r\n",
        "D = [] # Dataset\r\n",
        "\r\n",
        "for row in valid_data.itertuples():\r\n",
        "    y, sr = librosa.load('/content/drive/MyDrive/Colab Notebooks/UrbanSound8K/audio/' + row.path, duration=2.97)  \r\n",
        "    ps = librosa.feature.melspectrogram(y=y, sr=sr)\r\n",
        "    if ps.shape != (128, 128): continue\r\n",
        "    D.append( (ps, row.classID) )\r\n"
      ],
      "execution_count": null,
      "outputs": []
    },
    {
      "cell_type": "code",
      "metadata": {
        "id": "FJGZDLRzSjn5"
      },
      "source": [
        "print(\"Number of samples: \", len(D))"
      ],
      "execution_count": null,
      "outputs": []
    },
    {
      "cell_type": "code",
      "metadata": {
        "id": "uRZ8BSh6MeGr"
      },
      "source": [
        "dataset = D\r\n",
        "random.shuffle(dataset)\r\n",
        "\r\n",
        "train = dataset[:7000]\r\n",
        "test = dataset[7000:]\r\n",
        "\r\n",
        "X_train, y_train = zip(*train)\r\n",
        "X_test, y_test = zip(*test)\r\n",
        "\r\n",
        "# Reshape for CNN input\r\n",
        "X_train = np.array([x.reshape( (128, 128, 1) ) for x in X_train])\r\n",
        "X_test = np.array([x.reshape( (128, 128, 1) ) for x in X_test])\r\n",
        "\r\n",
        "# One-Hot encoding for classes\r\n",
        "y_train = np.array(keras.utils.to_categorical(y_train, 10))\r\n",
        "y_test = np.array(keras.utils.to_categorical(y_test, 10))"
      ],
      "execution_count": null,
      "outputs": []
    },
    {
      "cell_type": "code",
      "metadata": {
        "id": "4DtGObEsMhvp"
      },
      "source": [
        "model = Sequential()\r\n",
        "input_shape=(128, 128, 1)\r\n",
        "\r\n",
        "model.add(Conv2D(24, (5, 5), strides=(1, 1), input_shape=input_shape))\r\n",
        "model.add(MaxPooling2D((4, 2), strides=(4, 2)))\r\n",
        "model.add(Activation('relu'))\r\n",
        "\r\n",
        "model.add(Conv2D(48, (5, 5), padding=\"valid\"))\r\n",
        "model.add(MaxPooling2D((4, 2), strides=(4, 2)))\r\n",
        "model.add(Activation('relu'))\r\n",
        "\r\n",
        "model.add(Conv2D(48, (5, 5), padding=\"valid\"))\r\n",
        "model.add(Activation('relu'))\r\n",
        "\r\n",
        "model.add(Flatten())\r\n",
        "model.add(Dropout(rate=0.5))\r\n",
        "\r\n",
        "model.add(Dense(64))\r\n",
        "model.add(Activation('relu'))\r\n",
        "model.add(Dropout(rate=0.5))\r\n",
        "\r\n",
        "model.add(Dense(10))\r\n",
        "model.add(Activation('softmax'))"
      ],
      "execution_count": null,
      "outputs": []
    },
    {
      "cell_type": "code",
      "metadata": {
        "id": "S2jYDjkHMnBp"
      },
      "source": [
        "\r\n",
        "model.compile(\r\n",
        "\toptimizer=\"Adam\",\r\n",
        "\tloss=\"categorical_crossentropy\",\r\n",
        "\tmetrics=['accuracy'])\r\n",
        "\r\n",
        "model.fit(\r\n",
        "\tx=X_train, \r\n",
        "\ty=y_train,\r\n",
        "    epochs=12,\r\n",
        "    batch_size=128,\r\n",
        "    validation_data= (X_test, y_test))\r\n",
        "\r\n",
        "score = model.evaluate(\r\n",
        "\tx=X_test,\r\n",
        "\ty=y_test)\r\n",
        "\r\n",
        "print('Test loss:', score[0])\r\n",
        "print('Test accuracy:', score[1])"
      ],
      "execution_count": null,
      "outputs": []
    },
    {
      "cell_type": "code",
      "metadata": {
        "id": "9Xsg0eMGMraO"
      },
      "source": [
        ""
      ],
      "execution_count": null,
      "outputs": []
    }
  ]
}